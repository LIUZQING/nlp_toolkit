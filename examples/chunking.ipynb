{
 "cells": [
  {
   "cell_type": "markdown",
   "metadata": {},
   "source": [
    "# Chunking"
   ]
  },
  {
   "cell_type": "markdown",
   "metadata": {},
   "source": [
    "Demo tutorial for how to use nlp_toolkit to train sequence labeling model and predict new samples. The task we choose is noun phrases labeling.\n",
    "\n",
    "The dataset includes working experience texts from different cv, and we want to label noun phrases in given text.\n",
    "\n",
    "Available models:\n",
    "\n",
    "1. WordRNN\n",
    "2. CharRNN\n",
    "3. IDCNN"
   ]
  },
  {
   "cell_type": "code",
   "execution_count": 2,
   "metadata": {},
   "outputs": [
    {
     "name": "stderr",
     "output_type": "stream",
     "text": [
      "D:\\Anaconda3\\lib\\site-packages\\h5py\\__init__.py:36: FutureWarning: Conversion of the second argument of issubdtype from `float` to `np.floating` is deprecated. In future, it will be treated as `np.float64 == np.dtype(float).type`.\n",
      "  from ._conv import register_converters as _register_converters\n",
      "Using TensorFlow backend.\n"
     ]
    }
   ],
   "source": [
    "import sys\n",
    "sys.path.append('../')\n",
    "from nlp_toolkit import Dataset, Labeler"
   ]
  },
  {
   "cell_type": "markdown",
   "metadata": {},
   "source": [
    "## Data Processing"
   ]
  },
  {
   "cell_type": "markdown",
   "metadata": {},
   "source": [
    "### Load config dict"
   ]
  },
  {
   "cell_type": "code",
   "execution_count": 9,
   "metadata": {},
   "outputs": [],
   "source": [
    "import yaml\n",
    "config = yaml.load(open('../config_sequence_labeling.yaml', encoding='utf8'))\n",
    "# config['data']['inner_char'] = True\n",
    "config['data']['basic_token'] = 'char'\n",
    "config['data']['use_seg'] = True\n",
    "config['data']['use_radical'] = True"
   ]
  },
  {
   "cell_type": "markdown",
   "metadata": {},
   "source": [
    "### Load data"
   ]
  },
  {
   "cell_type": "code",
   "execution_count": 10,
   "metadata": {},
   "outputs": [
    {
     "name": "stderr",
     "output_type": "stream",
     "text": [
      "2018-11-24 21:28:35,242 - data.py[line:73] - WARNING: please set inner_char as False in config file\n",
      "2018-11-24 21:28:37,170 - data.py[line:136] - INFO: data loaded\n"
     ]
    }
   ],
   "source": [
    "dataset = Dataset(fname='../data/cv_word.txt', task_type='sequence_labeling', mode='train', config=config)"
   ]
  },
  {
   "cell_type": "code",
   "execution_count": 4,
   "metadata": {
    "scrolled": true
   },
   "outputs": [
    {
     "name": "stdout",
     "output_type": "stream",
     "text": [
      "[('主要', 'O'), ('帮助', 'O'), ('工地', 'B-Chunk'), ('师傅', 'E-Chunk'), ('一起', 'O'), ('超平', 'O'), (',', 'O'), ('防线', 'O'), ('工作', 'O')]\n",
      "[('协助', 'O'), ('线', 'O'), ('上', 'O'), ('、', 'O'), ('线', 'B-Chunk'), ('下', 'I-Chunk'), ('活动', 'E-Chunk'), ('的', 'O'), ('执行', 'O')]\n",
      "[('执行', 'O'), ('各项', 'O'), ('培训', 'O'), ('相关', 'O'), ('的', 'O'), ('各项', 'O'), ('工作', 'B-Chunk'), ('流程', 'E-Chunk')]\n",
      "[('云南', 'O'), (':', 'O'), ('曲靖', 'O'), ('、', 'O'), ('昭通', 'O'), ('下属', 'O'), ('的', 'O'), ('5', 'O'), ('个', 'O'), ('县级', 'O'), ('供电', 'B-Chunk'), ('公司', 'E-Chunk'), ('10', 'O'), ('个', 'O'), ('供电所', 'O')]\n",
      "[('担任', 'O'), ('培训', 'O'), ('学校', 'B-Chunk'), ('英语', 'I-Chunk'), ('讲师', 'E-Chunk'), ('一', 'O'), ('职', 'O'), ('和', 'O'), ('学生', 'B-Chunk'), ('管理', 'E-Chunk')]\n",
      "[('搜寻', 'O'), ('招标', 'B-Chunk'), ('公告', 'E-Chunk'), (',', 'O'), ('告知', 'O'), ('领导', 'O'), ('及', 'O'), ('业务', 'B-Chunk'), ('人员', 'E-Chunk'), (',', 'O'), ('确认', 'O'), ('是否', 'O'), ('报名', 'O')]\n",
      "[('2001', 'O'), ('/', 'O'), ('10', 'O'), ('--', 'O'), ('2002', 'O'), ('/', 'O'), ('04', 'O'), (':', 'O'), ('上海', 'O'), ('润', 'O'), ('宝', 'O'), ('工贸', 'B-Chunk'), ('公司', 'E-Chunk'), ('<s>', 'O'), ('所属', 'O'), ('行业', 'O'), (':', 'O'), ('<s>', 'O'), ('环保', 'O'), ('<s>', 'O'), ('销售部', 'O'), ('<s>', 'O'), ('销售', 'B-Chunk'), ('代表', 'E-Chunk'), ('<s>', 'O'), ('负责', 'O'), ('江浙', 'O'), ('一带', 'O'), ('工业', 'O'), ('圆', 'O'), ('区', 'O'), ('的', 'O'), ('空气过滤器', 'O'), ('的', 'O'), ('销售', 'O'), ('和', 'O'), ('维护', 'O'), (',', 'O'), ('期间', 'O'), ('昆山', 'O'), ('翊', 'O'), ('腾', 'O'), ('电子', 'O'), ('是', 'O'), ('长期', 'O'), ('的', 'O'), ('客户', 'O')]\n",
      "[('<s>', 'O'), ('仓库', 'B-Chunk'), ('管理', 'E-Chunk'), (':', 'O'), ('对', 'O'), ('仓库', 'O'), ('进行', 'O'), ('合理', 'O'), ('布局', 'O'), (',', 'O'), ('为', 'O'), ('方便', 'O'), ('员工', 'B-Chunk'), ('操作', 'E-Chunk'), ('和', 'O'), ('减少', 'O'), ('失误', 'O'), (',', 'O'), ('能够', 'O'), ('独立', 'O'), ('编排', 'O'), ('库', 'O'), ('位', 'O'), ('图', 'O'), ('和', 'O'), ('货位', 'O'), ('表', 'O')]\n",
      "[('<s>', 'O'), ('档案', 'B-Chunk'), ('管理', 'E-Chunk'), (':', 'O'), ('能', 'O'), ('独立', 'O'), ('制定', 'O'), ('仓库', 'B-Chunk'), ('管理', 'E-Chunk'), ('文档', 'O'), (',', 'O'), ('专人', 'O'), ('负责', 'O'), ('仓库', 'O'), ('资料', 'O'), ('的', 'O'), ('更新', 'O'), ('归档', 'O'), ('并', 'O'), ('定期', 'O'), ('检查', 'O')]\n",
      "[('电子', 'B-Chunk'), ('技术', 'E-Chunk'), ('/', 'O'), ('半导体', 'O'), ('/', 'O'), ('集成电路', 'O')]\n"
     ]
    }
   ],
   "source": [
    "for x, y in zip(dataset.texts[0:10], dataset.labels[0:10]):\n",
    "    print(list(zip(x, y)))"
   ]
  },
  {
   "cell_type": "markdown",
   "metadata": {},
   "source": [
    "### Transform data to index"
   ]
  },
  {
   "cell_type": "code",
   "execution_count": 11,
   "metadata": {},
   "outputs": [
    {
     "name": "stderr",
     "output_type": "stream",
     "text": [
      "2018-11-24 21:28:50,008 - data.py[line:214] - INFO: texts and labels have been transformed to number index\n",
      "2018-11-24 21:28:50,008 - data.py[line:222] - INFO: Use Embeddings from Straching\n"
     ]
    },
    {
     "name": "stdout",
     "output_type": "stream",
     "text": [
      "(57415, 120) (57415, 120, 4)\n"
     ]
    }
   ],
   "source": [
    "# if we want to use pre_trained embeddings, we need a gensim-format embedding file\n",
    "x, y, config = dataset.transform()\n",
    "print(x['token'].shape, y.shape)"
   ]
  },
  {
   "cell_type": "markdown",
   "metadata": {},
   "source": [
    "if your want to see the vocab and label index mapping dict"
   ]
  },
  {
   "cell_type": "code",
   "execution_count": 7,
   "metadata": {},
   "outputs": [],
   "source": [
    "# dataset.transformer._word_vocab._token2id"
   ]
  },
  {
   "cell_type": "code",
   "execution_count": 8,
   "metadata": {},
   "outputs": [],
   "source": [
    "# dataset.transformer._label_vocab._token2id"
   ]
  },
  {
   "cell_type": "code",
   "execution_count": 6,
   "metadata": {},
   "outputs": [],
   "source": [
    "transformer = dataset.transformer"
   ]
  },
  {
   "cell_type": "markdown",
   "metadata": {},
   "source": [
    "## Chunking Labeling"
   ]
  },
  {
   "cell_type": "markdown",
   "metadata": {},
   "source": [
    "### Define Sequence Labeler"
   ]
  },
  {
   "cell_type": "markdown",
   "metadata": {},
   "source": [
    "avialiable models: model_name_list = ['word_rnn', 'char_rnn', 'idcnn']"
   ]
  },
  {
   "cell_type": "code",
   "execution_count": 7,
   "metadata": {},
   "outputs": [],
   "source": [
    "model_name='char_rnn'\n",
    "seq_labeler = Labeler(model_name=model_name, transformer=transformer, seq_type='bucket', config=config)"
   ]
  },
  {
   "cell_type": "markdown",
   "metadata": {},
   "source": [
    "### Train model"
   ]
  },
  {
   "cell_type": "code",
   "execution_count": 8,
   "metadata": {},
   "outputs": [
    {
     "name": "stderr",
     "output_type": "stream",
     "text": [
      "2018-11-24 19:58:26,677 - trainer.py[line:129] - INFO: char_rnn model structure...\n",
      "2018-11-24 19:58:26,796 - trainer.py[line:139] - INFO: train/valid set: 45932/11483\n",
      "2018-11-24 19:58:26,796 - trainer.py[line:89] - INFO: use bucket sequence to speed up model training\n",
      "2018-11-24 19:58:26,797 - sequence.py[line:346] - INFO: Training with 100 non-empty buckets\n"
     ]
    },
    {
     "name": "stdout",
     "output_type": "stream",
     "text": [
      "__________________________________________________________________________________________________\n",
      "Layer (type)                    Output Shape         Param #     Connected to                     \n",
      "==================================================================================================\n",
      "token (InputLayer)              (None, None)         0                                            \n",
      "__________________________________________________________________________________________________\n",
      "char_embeddings (Embedding)     (None, None, 32)     334400      token[0][0]                      \n",
      "__________________________________________________________________________________________________\n",
      "seg (InputLayer)                (None, None)         0                                            \n",
      "__________________________________________________________________________________________________\n",
      "radical (InputLayer)            (None, None)         0                                            \n",
      "__________________________________________________________________________________________________\n",
      "spatial_dropout1d_1 (SpatialDro (None, None, 32)     0           char_embeddings[0][0]            \n",
      "__________________________________________________________________________________________________\n",
      "seg_embeddings (Embedding)      (None, None, 8)      48          seg[0][0]                        \n",
      "__________________________________________________________________________________________________\n",
      "radical_embeddings (Embedding)  (None, None, 32)     7456        radical[0][0]                    \n",
      "__________________________________________________________________________________________________\n",
      "embed (Concatenate)             (None, None, 72)     0           spatial_dropout1d_1[0][0]        \n",
      "                                                                 seg_embeddings[0][0]             \n",
      "                                                                 radical_embeddings[0][0]         \n",
      "__________________________________________________________________________________________________\n",
      "batch_normalization_1 (BatchNor (None, None, 72)     288         embed[0][0]                      \n",
      "__________________________________________________________________________________________________\n",
      "char_lstm_1 (Bidirectional)     (None, None, 128)    70144       batch_normalization_1[0][0]      \n",
      "__________________________________________________________________________________________________\n",
      "char_lstm_2 (Bidirectional)     (None, None, 128)    98816       char_lstm_1[0][0]                \n",
      "__________________________________________________________________________________________________\n",
      "crf_1 (CRF)                     (None, None, 4)      540         char_lstm_2[0][0]                \n",
      "==================================================================================================\n",
      "Total params: 511,692\n",
      "Trainable params: 511,548\n",
      "Non-trainable params: 144\n",
      "__________________________________________________________________________________________________\n"
     ]
    },
    {
     "name": "stderr",
     "output_type": "stream",
     "text": [
      "2018-11-24 19:58:27,181 - sequence.py[line:346] - INFO: Training with 100 non-empty buckets\n"
     ]
    },
    {
     "name": "stdout",
     "output_type": "stream",
     "text": [
      "mointor training process using f1 score and label acc\n",
      "Successfully made a directory: models\\char_rnn_201811241958\n",
      "using Early Stopping\n",
      "using Reduce LR On Plateau\n",
      "tracking loss history and metrics\n"
     ]
    },
    {
     "name": "stderr",
     "output_type": "stream",
     "text": [
      "2018-11-24 19:58:27,741 - trainer.py[line:171] - INFO: saving model parameters and transformer to models\\char_rnn_201811241958\n"
     ]
    },
    {
     "name": "stdout",
     "output_type": "stream",
     "text": [
      "model hyperparameters:\n",
      " {'nb_classes': 4, 'nb_tokens': 10450, 'maxlen': None, 'embedding_dim': 32, 'use_crf': True, 'use_seg': True, 'use_radical': True, 'use_nchar': False, 'rnn_type': 'lstm', 'nb_rnn_layers': 2, 'drop_rate': 0.5, 're_drop_rate': 0.15, 'char_rnn_size': 64, 'embed_dropout_rate': 0.15, 'nb_seg_tokens': 6, 'nb_radical_tokens': 233}\n",
      "Epoch 1/25\n",
      "769/769 [==============================] - 245s 318ms/step - loss: 0.5336 - acc: 0.8156 - val_loss: 0.2940 - val_acc: 0.8853\n",
      " - acc: 86.08\n",
      " - f1: 83.15\n",
      "             precision    recall  f1-score   support\n",
      "\n",
      "      Chunk       0.87      0.80      0.83      1579\n",
      "\n",
      "avg / total       0.87      0.80      0.83      1579\n",
      "\n",
      "\n",
      "Epoch 00001: f1_seq improved from -inf to 0.83152, saving model to models\\char_rnn_201811241958\\model_weights_01_0.8853_0.8315.h5\n",
      "Epoch 2/25\n",
      "769/769 [==============================] - 237s 309ms/step - loss: 0.2502 - acc: 0.8898 - val_loss: 0.2037 - val_acc: 0.8983\n",
      " - acc: 85.14\n",
      " - f1: 83.89\n",
      "             precision    recall  f1-score   support\n",
      "\n",
      "      Chunk       0.89      0.80      0.84      1563\n",
      "\n",
      "avg / total       0.89      0.80      0.84      1563\n",
      "\n",
      "\n",
      "Epoch 00002: f1_seq improved from 0.83152 to 0.83895, saving model to models\\char_rnn_201811241958\\model_weights_02_0.8983_0.8389.h5\n",
      "Epoch 3/25\n",
      "769/769 [==============================] - 238s 310ms/step - loss: 0.1975 - acc: 0.9003 - val_loss: 0.1941 - val_acc: 0.8972\n",
      " - acc: 87.44\n",
      " - f1: 85.89\n",
      "             precision    recall  f1-score   support\n",
      "\n",
      "      Chunk       0.90      0.82      0.86      1579\n",
      "\n",
      "avg / total       0.90      0.82      0.86      1579\n",
      "\n",
      "\n",
      "Epoch 00003: f1_seq improved from 0.83895 to 0.85895, saving model to models\\char_rnn_201811241958\\model_weights_03_0.8972_0.8589.h5\n",
      "Epoch 4/25\n",
      "769/769 [==============================] - 238s 310ms/step - loss: 0.1882 - acc: 0.9020 - val_loss: 0.1878 - val_acc: 0.9009\n",
      " - acc: 86.80\n",
      " - f1: 85.44\n",
      "             precision    recall  f1-score   support\n",
      "\n",
      "      Chunk       0.90      0.81      0.85      1579\n",
      "\n",
      "avg / total       0.90      0.81      0.85      1579\n",
      "\n",
      "\n",
      "Epoch 00004: f1_seq did not improve from 0.85895\n",
      "Epoch 5/25\n",
      "769/769 [==============================] - 235s 305ms/step - loss: 0.1861 - acc: 0.9029 - val_loss: 0.1862 - val_acc: 0.9017\n",
      " - acc: 86.55\n",
      " - f1: 85.23\n",
      "             precision    recall  f1-score   support\n",
      "\n",
      "      Chunk       0.90      0.81      0.85      1579\n",
      "\n",
      "avg / total       0.90      0.81      0.85      1579\n",
      "\n",
      "\n",
      "Epoch 00005: f1_seq did not improve from 0.85895\n",
      "Epoch 6/25\n",
      "769/769 [==============================] - 235s 305ms/step - loss: 0.1852 - acc: 0.9029 - val_loss: 0.1858 - val_acc: 0.9013\n",
      " - acc: 86.71\n",
      " - f1: 85.29\n",
      "             precision    recall  f1-score   support\n",
      "\n",
      "      Chunk       0.90      0.81      0.85      1579\n",
      "\n",
      "avg / total       0.90      0.81      0.85      1579\n",
      "\n",
      "\n",
      "Epoch 00006: f1_seq did not improve from 0.85895\n",
      "best f1_seq: 85.89\n"
     ]
    }
   ],
   "source": [
    "trained_model = seq_labeler.train(x, y)"
   ]
  },
  {
   "cell_type": "markdown",
   "metadata": {},
   "source": [
    "### 10-fold training"
   ]
  },
  {
   "cell_type": "code",
   "execution_count": 9,
   "metadata": {},
   "outputs": [
    {
     "name": "stderr",
     "output_type": "stream",
     "text": [
      "2018-11-24 20:40:57,855 - trainer.py[line:186] - INFO: 10-fold starts!\n"
     ]
    },
    {
     "name": "stdout",
     "output_type": "stream",
     "text": [
      "\n",
      "------------------------ fold 0------------------------\n"
     ]
    },
    {
     "name": "stderr",
     "output_type": "stream",
     "text": [
      "2018-11-24 20:40:59,408 - trainer.py[line:199] - INFO: char_rnn model structure...\n",
      "2018-11-24 20:40:59,517 - trainer.py[line:89] - INFO: use bucket sequence to speed up model training\n",
      "2018-11-24 20:40:59,520 - sequence.py[line:346] - INFO: Training with 100 non-empty buckets\n"
     ]
    },
    {
     "name": "stdout",
     "output_type": "stream",
     "text": [
      "__________________________________________________________________________________________________\n",
      "Layer (type)                    Output Shape         Param #     Connected to                     \n",
      "==================================================================================================\n",
      "token (InputLayer)              (None, None)         0                                            \n",
      "__________________________________________________________________________________________________\n",
      "char_embeddings (Embedding)     (None, None, 32)     334400      token[0][0]                      \n",
      "__________________________________________________________________________________________________\n",
      "seg (InputLayer)                (None, None)         0                                            \n",
      "__________________________________________________________________________________________________\n",
      "radical (InputLayer)            (None, None)         0                                            \n",
      "__________________________________________________________________________________________________\n",
      "spatial_dropout1d_2 (SpatialDro (None, None, 32)     0           char_embeddings[0][0]            \n",
      "__________________________________________________________________________________________________\n",
      "seg_embeddings (Embedding)      (None, None, 8)      48          seg[0][0]                        \n",
      "__________________________________________________________________________________________________\n",
      "radical_embeddings (Embedding)  (None, None, 32)     7456        radical[0][0]                    \n",
      "__________________________________________________________________________________________________\n",
      "embed (Concatenate)             (None, None, 72)     0           spatial_dropout1d_2[0][0]        \n",
      "                                                                 seg_embeddings[0][0]             \n",
      "                                                                 radical_embeddings[0][0]         \n",
      "__________________________________________________________________________________________________\n",
      "batch_normalization_2 (BatchNor (None, None, 72)     288         embed[0][0]                      \n",
      "__________________________________________________________________________________________________\n",
      "char_lstm_1 (Bidirectional)     (None, None, 128)    70144       batch_normalization_2[0][0]      \n",
      "__________________________________________________________________________________________________\n",
      "char_lstm_2 (Bidirectional)     (None, None, 128)    98816       char_lstm_1[0][0]                \n",
      "__________________________________________________________________________________________________\n",
      "crf_2 (CRF)                     (None, None, 4)      540         char_lstm_2[0][0]                \n",
      "==================================================================================================\n",
      "Total params: 511,692\n",
      "Trainable params: 511,548\n",
      "Non-trainable params: 144\n",
      "__________________________________________________________________________________________________\n"
     ]
    },
    {
     "name": "stderr",
     "output_type": "stream",
     "text": [
      "2018-11-24 20:40:59,945 - sequence.py[line:346] - INFO: Training with 100 non-empty buckets\n"
     ]
    },
    {
     "name": "stdout",
     "output_type": "stream",
     "text": [
      "mointor training process using f1 score and label acc\n",
      "using Early Stopping\n",
      "using Reduce LR On Plateau\n",
      "tracking loss history and metrics\n",
      "Epoch 1/25\n",
      "857/857 [==============================] - 257s 300ms/step - loss: 0.9572 - acc: 0.6617 - val_loss: 0.8648 - val_acc: 0.6707\n",
      " - acc: 0.14\n",
      " - f1: 0.00\n",
      "             precision    recall  f1-score   support\n",
      "\n",
      "      Chunk       0.00      0.00      0.00       641\n",
      "\n",
      "avg / total       0.00      0.00      0.00       641\n",
      "\n",
      "Epoch 2/25\n",
      "857/857 [==============================] - 252s 294ms/step - loss: 0.8526 - acc: 0.6676 - val_loss: 0.8168 - val_acc: 0.6718\n",
      " - acc: 0.74\n",
      " - f1: 0.00\n",
      "             precision    recall  f1-score   support\n",
      "\n",
      "      Chunk       0.00      0.00      0.00       641\n",
      "\n",
      "avg / total       0.00      0.00      0.00       641\n",
      "\n",
      "Epoch 3/25\n",
      "857/857 [==============================] - 252s 294ms/step - loss: 0.8044 - acc: 0.6694 - val_loss: 0.7558 - val_acc: 0.6806\n",
      " - acc: 4.13\n",
      " - f1: 0.81\n",
      "             precision    recall  f1-score   support\n",
      "\n",
      "      Chunk       0.03      0.00      0.01       641\n",
      "\n",
      "avg / total       0.03      0.00      0.01       641\n",
      "\n",
      "Epoch 4/25\n",
      "857/857 [==============================] - 253s 295ms/step - loss: 0.7478 - acc: 0.6787 - val_loss: 0.6857 - val_acc: 0.7048\n",
      " - acc: 19.73\n",
      " - f1: 7.14\n",
      "             precision    recall  f1-score   support\n",
      "\n",
      "      Chunk       0.09      0.06      0.07       641\n",
      "\n",
      "avg / total       0.09      0.06      0.07       641\n",
      "\n",
      "Epoch 5/25\n",
      "857/857 [==============================] - 252s 294ms/step - loss: 0.6836 - acc: 0.6999 - val_loss: 0.6126 - val_acc: 0.7413\n",
      " - acc: 35.33\n",
      " - f1: 24.93\n",
      "             precision    recall  f1-score   support\n",
      "\n",
      "      Chunk       0.30      0.21      0.25       641\n",
      "\n",
      "avg / total       0.30      0.21      0.25       641\n",
      "\n",
      "Epoch 6/25\n",
      "857/857 [==============================] - 254s 297ms/step - loss: 0.6184 - acc: 0.7333 - val_loss: 0.5396 - val_acc: 0.7850\n",
      " - acc: 57.60\n",
      " - f1: 43.74\n",
      "             precision    recall  f1-score   support\n",
      "\n",
      "      Chunk       0.49      0.40      0.44       641\n",
      "\n",
      "avg / total       0.49      0.40      0.44       641\n",
      "\n",
      "Epoch 7/25\n",
      "857/857 [==============================] - 252s 294ms/step - loss: 0.5566 - acc: 0.7665 - val_loss: 0.4840 - val_acc: 0.8096\n",
      " - acc: 67.85\n",
      " - f1: 56.34\n",
      "             precision    recall  f1-score   support\n",
      "\n",
      "      Chunk       0.60      0.53      0.56       641\n",
      "\n",
      "avg / total       0.60      0.53      0.56       641\n",
      "\n",
      "Epoch 8/25\n",
      "857/857 [==============================] - 253s 295ms/step - loss: 0.5071 - acc: 0.7877 - val_loss: 0.4478 - val_acc: 0.8201\n"
     ]
    },
    {
     "ename": "KeyboardInterrupt",
     "evalue": "",
     "output_type": "error",
     "traceback": [
      "\u001b[1;31m-----------------------------------------\u001b[0m",
      "\u001b[1;31mKeyboardInterrupt\u001b[0mTraceback (most recent call last)",
      "\u001b[1;32m<ipython-input-9-6173c0d5642b>\u001b[0m in \u001b[0;36m<module>\u001b[1;34m()\u001b[0m\n\u001b[0;32m      1\u001b[0m \u001b[0mconfig\u001b[0m\u001b[1;33m[\u001b[0m\u001b[1;34m'train'\u001b[0m\u001b[1;33m]\u001b[0m\u001b[1;33m[\u001b[0m\u001b[1;34m'train_mode'\u001b[0m\u001b[1;33m]\u001b[0m \u001b[1;33m=\u001b[0m \u001b[1;34m'fold'\u001b[0m\u001b[1;33m\u001b[0m\u001b[0m\n\u001b[0;32m      2\u001b[0m \u001b[0mseq_labeler_new\u001b[0m \u001b[1;33m=\u001b[0m \u001b[0mLabeler\u001b[0m\u001b[1;33m(\u001b[0m\u001b[0mmodel_name\u001b[0m\u001b[1;33m=\u001b[0m\u001b[0mmodel_name\u001b[0m\u001b[1;33m,\u001b[0m \u001b[0mtransformer\u001b[0m\u001b[1;33m=\u001b[0m\u001b[0mtransformer\u001b[0m\u001b[1;33m,\u001b[0m \u001b[0mseq_type\u001b[0m\u001b[1;33m=\u001b[0m\u001b[1;34m'bucket'\u001b[0m\u001b[1;33m,\u001b[0m \u001b[0mconfig\u001b[0m\u001b[1;33m=\u001b[0m\u001b[0mconfig\u001b[0m\u001b[1;33m)\u001b[0m\u001b[1;33m\u001b[0m\u001b[0m\n\u001b[1;32m----> 3\u001b[1;33m \u001b[0mseq_labeler_new\u001b[0m\u001b[1;33m.\u001b[0m\u001b[0mtrain\u001b[0m\u001b[1;33m(\u001b[0m\u001b[0mx\u001b[0m\u001b[1;33m,\u001b[0m\u001b[0my\u001b[0m\u001b[1;33m)\u001b[0m\u001b[1;33m\u001b[0m\u001b[0m\n\u001b[0m",
      "\u001b[1;32m~\\OneDrive\\nlp_toolkit\\nlp_toolkit\\labeler.py\u001b[0m in \u001b[0;36mtrain\u001b[1;34m(self, x, y)\u001b[0m\n\u001b[0;32m    123\u001b[0m     \u001b[1;32mdef\u001b[0m \u001b[0mtrain\u001b[0m\u001b[1;33m(\u001b[0m\u001b[0mself\u001b[0m\u001b[1;33m,\u001b[0m \u001b[0mx\u001b[0m\u001b[1;33m,\u001b[0m \u001b[0my\u001b[0m\u001b[1;33m)\u001b[0m\u001b[1;33m:\u001b[0m\u001b[1;33m\u001b[0m\u001b[0m\n\u001b[0;32m    124\u001b[0m         return self.model_trainer.train(\n\u001b[1;32m--> 125\u001b[1;33m             x, y, self.transformer, self.seq_type)\n\u001b[0m\u001b[0;32m    126\u001b[0m \u001b[1;33m\u001b[0m\u001b[0m\n\u001b[0;32m    127\u001b[0m     \u001b[1;32mdef\u001b[0m \u001b[0mpredict\u001b[0m\u001b[1;33m(\u001b[0m\u001b[0mself\u001b[0m\u001b[1;33m,\u001b[0m \u001b[0mx\u001b[0m\u001b[1;33m,\u001b[0m \u001b[0mbatch_size\u001b[0m\u001b[1;33m=\u001b[0m\u001b[1;36m64\u001b[0m\u001b[1;33m)\u001b[0m\u001b[1;33m:\u001b[0m\u001b[1;33m\u001b[0m\u001b[0m\n",
      "\u001b[1;32m~\\OneDrive\\nlp_toolkit\\nlp_toolkit\\trainer.py\u001b[0m in \u001b[0;36mtrain\u001b[1;34m(self, x, y, transformer, seq_type, return_attention, use_crf)\u001b[0m\n\u001b[0;32m    228\u001b[0m                     \u001b[0mcallbacks\u001b[0m\u001b[1;33m=\u001b[0m\u001b[0mself\u001b[0m\u001b[1;33m.\u001b[0m\u001b[0mcallbacks\u001b[0m\u001b[1;33m,\u001b[0m\u001b[1;33m\u001b[0m\u001b[0m\n\u001b[0;32m    229\u001b[0m                     \u001b[0mshuffle\u001b[0m\u001b[1;33m=\u001b[0m\u001b[0mself\u001b[0m\u001b[1;33m.\u001b[0m\u001b[0mshuffle\u001b[0m\u001b[1;33m,\u001b[0m\u001b[1;33m\u001b[0m\u001b[0m\n\u001b[1;32m--> 230\u001b[1;33m                     validation_data=valid_batches)\n\u001b[0m\u001b[0;32m    231\u001b[0m                 \u001b[0mscores\u001b[0m\u001b[1;33m.\u001b[0m\u001b[0mappend\u001b[0m\u001b[1;33m(\u001b[0m\u001b[0mmax\u001b[0m\u001b[1;33m(\u001b[0m\u001b[0mhistory\u001b[0m\u001b[1;33m.\u001b[0m\u001b[0mmetrics\u001b[0m\u001b[1;33m)\u001b[0m\u001b[1;33m)\u001b[0m\u001b[1;33m\u001b[0m\u001b[0m\n\u001b[0;32m    232\u001b[0m \u001b[1;33m\u001b[0m\u001b[0m\n",
      "\u001b[1;32mD:\\Anaconda3\\lib\\site-packages\\keras\\legacy\\interfaces.py\u001b[0m in \u001b[0;36mwrapper\u001b[1;34m(*args, **kwargs)\u001b[0m\n\u001b[0;32m     89\u001b[0m                 warnings.warn('Update your `' + object_name + '` call to the ' +\n\u001b[0;32m     90\u001b[0m                               'Keras 2 API: ' + signature, stacklevel=2)\n\u001b[1;32m---> 91\u001b[1;33m             \u001b[1;32mreturn\u001b[0m \u001b[0mfunc\u001b[0m\u001b[1;33m(\u001b[0m\u001b[1;33m*\u001b[0m\u001b[0margs\u001b[0m\u001b[1;33m,\u001b[0m \u001b[1;33m**\u001b[0m\u001b[0mkwargs\u001b[0m\u001b[1;33m)\u001b[0m\u001b[1;33m\u001b[0m\u001b[0m\n\u001b[0m\u001b[0;32m     92\u001b[0m         \u001b[0mwrapper\u001b[0m\u001b[1;33m.\u001b[0m\u001b[0m_original_function\u001b[0m \u001b[1;33m=\u001b[0m \u001b[0mfunc\u001b[0m\u001b[1;33m\u001b[0m\u001b[0m\n\u001b[0;32m     93\u001b[0m         \u001b[1;32mreturn\u001b[0m \u001b[0mwrapper\u001b[0m\u001b[1;33m\u001b[0m\u001b[0m\n",
      "\u001b[1;32mD:\\Anaconda3\\lib\\site-packages\\keras\\engine\\training.py\u001b[0m in \u001b[0;36mfit_generator\u001b[1;34m(self, generator, steps_per_epoch, epochs, verbose, callbacks, validation_data, validation_steps, class_weight, max_queue_size, workers, use_multiprocessing, shuffle, initial_epoch)\u001b[0m\n\u001b[0;32m   1416\u001b[0m             \u001b[0muse_multiprocessing\u001b[0m\u001b[1;33m=\u001b[0m\u001b[0muse_multiprocessing\u001b[0m\u001b[1;33m,\u001b[0m\u001b[1;33m\u001b[0m\u001b[0m\n\u001b[0;32m   1417\u001b[0m             \u001b[0mshuffle\u001b[0m\u001b[1;33m=\u001b[0m\u001b[0mshuffle\u001b[0m\u001b[1;33m,\u001b[0m\u001b[1;33m\u001b[0m\u001b[0m\n\u001b[1;32m-> 1418\u001b[1;33m             initial_epoch=initial_epoch)\n\u001b[0m\u001b[0;32m   1419\u001b[0m \u001b[1;33m\u001b[0m\u001b[0m\n\u001b[0;32m   1420\u001b[0m     \u001b[1;33m@\u001b[0m\u001b[0minterfaces\u001b[0m\u001b[1;33m.\u001b[0m\u001b[0mlegacy_generator_methods_support\u001b[0m\u001b[1;33m\u001b[0m\u001b[0m\n",
      "\u001b[1;32mD:\\Anaconda3\\lib\\site-packages\\keras\\engine\\training_generator.py\u001b[0m in \u001b[0;36mfit_generator\u001b[1;34m(model, generator, steps_per_epoch, epochs, verbose, callbacks, validation_data, validation_steps, class_weight, max_queue_size, workers, use_multiprocessing, shuffle, initial_epoch)\u001b[0m\n\u001b[0;32m    249\u001b[0m                     \u001b[1;32mbreak\u001b[0m\u001b[1;33m\u001b[0m\u001b[0m\n\u001b[0;32m    250\u001b[0m \u001b[1;33m\u001b[0m\u001b[0m\n\u001b[1;32m--> 251\u001b[1;33m             \u001b[0mcallbacks\u001b[0m\u001b[1;33m.\u001b[0m\u001b[0mon_epoch_end\u001b[0m\u001b[1;33m(\u001b[0m\u001b[0mepoch\u001b[0m\u001b[1;33m,\u001b[0m \u001b[0mepoch_logs\u001b[0m\u001b[1;33m)\u001b[0m\u001b[1;33m\u001b[0m\u001b[0m\n\u001b[0m\u001b[0;32m    252\u001b[0m             \u001b[0mepoch\u001b[0m \u001b[1;33m+=\u001b[0m \u001b[1;36m1\u001b[0m\u001b[1;33m\u001b[0m\u001b[0m\n\u001b[0;32m    253\u001b[0m             \u001b[1;32mif\u001b[0m \u001b[0mcallback_model\u001b[0m\u001b[1;33m.\u001b[0m\u001b[0mstop_training\u001b[0m\u001b[1;33m:\u001b[0m\u001b[1;33m\u001b[0m\u001b[0m\n",
      "\u001b[1;32mD:\\Anaconda3\\lib\\site-packages\\keras\\callbacks.py\u001b[0m in \u001b[0;36mon_epoch_end\u001b[1;34m(self, epoch, logs)\u001b[0m\n\u001b[0;32m     77\u001b[0m         \u001b[0mlogs\u001b[0m \u001b[1;33m=\u001b[0m \u001b[0mlogs\u001b[0m \u001b[1;32mor\u001b[0m \u001b[1;33m{\u001b[0m\u001b[1;33m}\u001b[0m\u001b[1;33m\u001b[0m\u001b[0m\n\u001b[0;32m     78\u001b[0m         \u001b[1;32mfor\u001b[0m \u001b[0mcallback\u001b[0m \u001b[1;32min\u001b[0m \u001b[0mself\u001b[0m\u001b[1;33m.\u001b[0m\u001b[0mcallbacks\u001b[0m\u001b[1;33m:\u001b[0m\u001b[1;33m\u001b[0m\u001b[0m\n\u001b[1;32m---> 79\u001b[1;33m             \u001b[0mcallback\u001b[0m\u001b[1;33m.\u001b[0m\u001b[0mon_epoch_end\u001b[0m\u001b[1;33m(\u001b[0m\u001b[0mepoch\u001b[0m\u001b[1;33m,\u001b[0m \u001b[0mlogs\u001b[0m\u001b[1;33m)\u001b[0m\u001b[1;33m\u001b[0m\u001b[0m\n\u001b[0m\u001b[0;32m     80\u001b[0m \u001b[1;33m\u001b[0m\u001b[0m\n\u001b[0;32m     81\u001b[0m     \u001b[1;32mdef\u001b[0m \u001b[0mon_batch_begin\u001b[0m\u001b[1;33m(\u001b[0m\u001b[0mself\u001b[0m\u001b[1;33m,\u001b[0m \u001b[0mbatch\u001b[0m\u001b[1;33m,\u001b[0m \u001b[0mlogs\u001b[0m\u001b[1;33m=\u001b[0m\u001b[1;32mNone\u001b[0m\u001b[1;33m)\u001b[0m\u001b[1;33m:\u001b[0m\u001b[1;33m\u001b[0m\u001b[0m\n",
      "\u001b[1;32m~\\OneDrive\\nlp_toolkit\\nlp_toolkit\\callbacks.py\u001b[0m in \u001b[0;36mon_epoch_end\u001b[1;34m(self, epoch, logs)\u001b[0m\n\u001b[0;32m    112\u001b[0m             \u001b[0mx_true\u001b[0m\u001b[1;33m,\u001b[0m \u001b[0my_true\u001b[0m \u001b[1;33m=\u001b[0m \u001b[0mself\u001b[0m\u001b[1;33m.\u001b[0m\u001b[0mseq\u001b[0m\u001b[1;33m[\u001b[0m\u001b[0mi\u001b[0m\u001b[1;33m]\u001b[0m\u001b[1;33m\u001b[0m\u001b[0m\n\u001b[0;32m    113\u001b[0m             \u001b[0mlengths\u001b[0m \u001b[1;33m=\u001b[0m \u001b[0mself\u001b[0m\u001b[1;33m.\u001b[0m\u001b[0mget_lengths\u001b[0m\u001b[1;33m(\u001b[0m\u001b[0my_true\u001b[0m\u001b[1;33m)\u001b[0m\u001b[1;33m\u001b[0m\u001b[0m\n\u001b[1;32m--> 114\u001b[1;33m             \u001b[0my_pred\u001b[0m \u001b[1;33m=\u001b[0m \u001b[0mself\u001b[0m\u001b[1;33m.\u001b[0m\u001b[0mmodel\u001b[0m\u001b[1;33m.\u001b[0m\u001b[0mpredict_on_batch\u001b[0m\u001b[1;33m(\u001b[0m\u001b[0mx_true\u001b[0m\u001b[1;33m)\u001b[0m\u001b[1;33m\u001b[0m\u001b[0m\n\u001b[0m\u001b[0;32m    115\u001b[0m             \u001b[0my_true\u001b[0m \u001b[1;33m=\u001b[0m \u001b[0mself\u001b[0m\u001b[1;33m.\u001b[0m\u001b[0mt\u001b[0m\u001b[1;33m.\u001b[0m\u001b[0minverse_transform\u001b[0m\u001b[1;33m(\u001b[0m\u001b[0my_true\u001b[0m\u001b[1;33m,\u001b[0m \u001b[0mlengths\u001b[0m\u001b[1;33m)\u001b[0m\u001b[1;33m\u001b[0m\u001b[0m\n\u001b[0;32m    116\u001b[0m             \u001b[0my_pred\u001b[0m \u001b[1;33m=\u001b[0m \u001b[0mself\u001b[0m\u001b[1;33m.\u001b[0m\u001b[0mt\u001b[0m\u001b[1;33m.\u001b[0m\u001b[0minverse_transform\u001b[0m\u001b[1;33m(\u001b[0m\u001b[0my_pred\u001b[0m\u001b[1;33m,\u001b[0m \u001b[0mlengths\u001b[0m\u001b[1;33m)\u001b[0m\u001b[1;33m\u001b[0m\u001b[0m\n",
      "\u001b[1;32mD:\\Anaconda3\\lib\\site-packages\\keras\\engine\\training.py\u001b[0m in \u001b[0;36mpredict_on_batch\u001b[1;34m(self, x)\u001b[0m\n\u001b[0;32m   1272\u001b[0m             \u001b[0mins\u001b[0m \u001b[1;33m=\u001b[0m \u001b[0mx\u001b[0m\u001b[1;33m\u001b[0m\u001b[0m\n\u001b[0;32m   1273\u001b[0m         \u001b[0mself\u001b[0m\u001b[1;33m.\u001b[0m\u001b[0m_make_predict_function\u001b[0m\u001b[1;33m(\u001b[0m\u001b[1;33m)\u001b[0m\u001b[1;33m\u001b[0m\u001b[0m\n\u001b[1;32m-> 1274\u001b[1;33m         \u001b[0moutputs\u001b[0m \u001b[1;33m=\u001b[0m \u001b[0mself\u001b[0m\u001b[1;33m.\u001b[0m\u001b[0mpredict_function\u001b[0m\u001b[1;33m(\u001b[0m\u001b[0mins\u001b[0m\u001b[1;33m)\u001b[0m\u001b[1;33m\u001b[0m\u001b[0m\n\u001b[0m\u001b[0;32m   1275\u001b[0m         \u001b[1;32mreturn\u001b[0m \u001b[0munpack_singleton\u001b[0m\u001b[1;33m(\u001b[0m\u001b[0moutputs\u001b[0m\u001b[1;33m)\u001b[0m\u001b[1;33m\u001b[0m\u001b[0m\n\u001b[0;32m   1276\u001b[0m \u001b[1;33m\u001b[0m\u001b[0m\n",
      "\u001b[1;32mD:\\Anaconda3\\lib\\site-packages\\keras\\backend\\tensorflow_backend.py\u001b[0m in \u001b[0;36m__call__\u001b[1;34m(self, inputs)\u001b[0m\n\u001b[0;32m   2713\u001b[0m                 \u001b[1;32mreturn\u001b[0m \u001b[0mself\u001b[0m\u001b[1;33m.\u001b[0m\u001b[0m_legacy_call\u001b[0m\u001b[1;33m(\u001b[0m\u001b[0minputs\u001b[0m\u001b[1;33m)\u001b[0m\u001b[1;33m\u001b[0m\u001b[0m\n\u001b[0;32m   2714\u001b[0m \u001b[1;33m\u001b[0m\u001b[0m\n\u001b[1;32m-> 2715\u001b[1;33m             \u001b[1;32mreturn\u001b[0m \u001b[0mself\u001b[0m\u001b[1;33m.\u001b[0m\u001b[0m_call\u001b[0m\u001b[1;33m(\u001b[0m\u001b[0minputs\u001b[0m\u001b[1;33m)\u001b[0m\u001b[1;33m\u001b[0m\u001b[0m\n\u001b[0m\u001b[0;32m   2716\u001b[0m         \u001b[1;32melse\u001b[0m\u001b[1;33m:\u001b[0m\u001b[1;33m\u001b[0m\u001b[0m\n\u001b[0;32m   2717\u001b[0m             \u001b[1;32mif\u001b[0m \u001b[0mpy_any\u001b[0m\u001b[1;33m(\u001b[0m\u001b[0mis_tensor\u001b[0m\u001b[1;33m(\u001b[0m\u001b[0mx\u001b[0m\u001b[1;33m)\u001b[0m \u001b[1;32mfor\u001b[0m \u001b[0mx\u001b[0m \u001b[1;32min\u001b[0m \u001b[0minputs\u001b[0m\u001b[1;33m)\u001b[0m\u001b[1;33m:\u001b[0m\u001b[1;33m\u001b[0m\u001b[0m\n",
      "\u001b[1;32mD:\\Anaconda3\\lib\\site-packages\\keras\\backend\\tensorflow_backend.py\u001b[0m in \u001b[0;36m_call\u001b[1;34m(self, inputs)\u001b[0m\n\u001b[0;32m   2673\u001b[0m             \u001b[0mfetched\u001b[0m \u001b[1;33m=\u001b[0m \u001b[0mself\u001b[0m\u001b[1;33m.\u001b[0m\u001b[0m_callable_fn\u001b[0m\u001b[1;33m(\u001b[0m\u001b[1;33m*\u001b[0m\u001b[0marray_vals\u001b[0m\u001b[1;33m,\u001b[0m \u001b[0mrun_metadata\u001b[0m\u001b[1;33m=\u001b[0m\u001b[0mself\u001b[0m\u001b[1;33m.\u001b[0m\u001b[0mrun_metadata\u001b[0m\u001b[1;33m)\u001b[0m\u001b[1;33m\u001b[0m\u001b[0m\n\u001b[0;32m   2674\u001b[0m         \u001b[1;32melse\u001b[0m\u001b[1;33m:\u001b[0m\u001b[1;33m\u001b[0m\u001b[0m\n\u001b[1;32m-> 2675\u001b[1;33m             \u001b[0mfetched\u001b[0m \u001b[1;33m=\u001b[0m \u001b[0mself\u001b[0m\u001b[1;33m.\u001b[0m\u001b[0m_callable_fn\u001b[0m\u001b[1;33m(\u001b[0m\u001b[1;33m*\u001b[0m\u001b[0marray_vals\u001b[0m\u001b[1;33m)\u001b[0m\u001b[1;33m\u001b[0m\u001b[0m\n\u001b[0m\u001b[0;32m   2676\u001b[0m         \u001b[1;32mreturn\u001b[0m \u001b[0mfetched\u001b[0m\u001b[1;33m[\u001b[0m\u001b[1;33m:\u001b[0m\u001b[0mlen\u001b[0m\u001b[1;33m(\u001b[0m\u001b[0mself\u001b[0m\u001b[1;33m.\u001b[0m\u001b[0moutputs\u001b[0m\u001b[1;33m)\u001b[0m\u001b[1;33m]\u001b[0m\u001b[1;33m\u001b[0m\u001b[0m\n\u001b[0;32m   2677\u001b[0m \u001b[1;33m\u001b[0m\u001b[0m\n",
      "\u001b[1;32mD:\\Anaconda3\\lib\\site-packages\\tensorflow\\python\\client\\session.py\u001b[0m in \u001b[0;36m__call__\u001b[1;34m(self, *args, **kwargs)\u001b[0m\n\u001b[0;32m   1397\u001b[0m           ret = tf_session.TF_SessionRunCallable(\n\u001b[0;32m   1398\u001b[0m               \u001b[0mself\u001b[0m\u001b[1;33m.\u001b[0m\u001b[0m_session\u001b[0m\u001b[1;33m.\u001b[0m\u001b[0m_session\u001b[0m\u001b[1;33m,\u001b[0m \u001b[0mself\u001b[0m\u001b[1;33m.\u001b[0m\u001b[0m_handle\u001b[0m\u001b[1;33m,\u001b[0m \u001b[0margs\u001b[0m\u001b[1;33m,\u001b[0m \u001b[0mstatus\u001b[0m\u001b[1;33m,\u001b[0m\u001b[1;33m\u001b[0m\u001b[0m\n\u001b[1;32m-> 1399\u001b[1;33m               run_metadata_ptr)\n\u001b[0m\u001b[0;32m   1400\u001b[0m         \u001b[1;32mif\u001b[0m \u001b[0mrun_metadata\u001b[0m\u001b[1;33m:\u001b[0m\u001b[1;33m\u001b[0m\u001b[0m\n\u001b[0;32m   1401\u001b[0m           \u001b[0mproto_data\u001b[0m \u001b[1;33m=\u001b[0m \u001b[0mtf_session\u001b[0m\u001b[1;33m.\u001b[0m\u001b[0mTF_GetBuffer\u001b[0m\u001b[1;33m(\u001b[0m\u001b[0mrun_metadata_ptr\u001b[0m\u001b[1;33m)\u001b[0m\u001b[1;33m\u001b[0m\u001b[0m\n",
      "\u001b[1;31mKeyboardInterrupt\u001b[0m: "
     ]
    }
   ],
   "source": [
    "config['train']['train_mode'] = 'fold'\n",
    "seq_labeler_new = Labeler(model_name=model_name, transformer=transformer, seq_type='bucket', config=config)\n",
    "seq_labeler_new.train(x,y)"
   ]
  },
  {
   "cell_type": "markdown",
   "metadata": {},
   "source": [
    "## Predict New Samples"
   ]
  },
  {
   "cell_type": "markdown",
   "metadata": {},
   "source": [
    "### Load data and transformer"
   ]
  },
  {
   "cell_type": "code",
   "execution_count": 1,
   "metadata": {},
   "outputs": [
    {
     "name": "stderr",
     "output_type": "stream",
     "text": [
      "D:\\Anaconda3\\lib\\site-packages\\h5py\\__init__.py:36: FutureWarning: Conversion of the second argument of issubdtype from `float` to `np.floating` is deprecated. In future, it will be treated as `np.float64 == np.dtype(float).type`.\n",
      "  from ._conv import register_converters as _register_converters\n",
      "Using TensorFlow backend.\n",
      "2018-11-25 10:56:19,683 - data.py[line:98] - INFO: transformer loaded\n",
      "2018-11-25 10:56:19,798 - data.py[line:136] - INFO: data loaded\n"
     ]
    }
   ],
   "source": [
    "import sys\n",
    "sys.path.append('../')\n",
    "from nlp_toolkit import Dataset, Labeler\n",
    "\n",
    "dataset = Dataset(fname='../data/cv_word_predict.txt',\n",
    "                  task_type='sequence_labeling', mode='predict',\n",
    "                  tran_fname='models/char_rnn_201811241958/transformer.h5')\n",
    "x_seq = dataset.transform()"
   ]
  },
  {
   "cell_type": "markdown",
   "metadata": {},
   "source": [
    "### Load model"
   ]
  },
  {
   "cell_type": "code",
   "execution_count": 2,
   "metadata": {},
   "outputs": [
    {
     "name": "stdout",
     "output_type": "stream",
     "text": [
      "model loaded\n"
     ]
    }
   ],
   "source": [
    "seq_labeler = Labeler('char_rnn', dataset.transformer)\n",
    "seq_labeler.load(weight_fname='models/char_rnn_201811241958/model_weights_03_0.8972_0.8589.h5',\n",
    "                 para_fname='models/char_rnn_201811241958/model_parameters.json')"
   ]
  },
  {
   "cell_type": "markdown",
   "metadata": {},
   "source": [
    "### predict samples"
   ]
  },
  {
   "cell_type": "code",
   "execution_count": 3,
   "metadata": {},
   "outputs": [
    {
     "name": "stderr",
     "output_type": "stream",
     "text": [
      "2018-11-25 10:59:09,768 - labeler.py[line:164] - INFO: predict 57415 samples used 161.7s\n"
     ]
    }
   ],
   "source": [
    "y_pred = seq_labeler.predict(x_seq)"
   ]
  },
  {
   "cell_type": "code",
   "execution_count": 4,
   "metadata": {},
   "outputs": [
    {
     "data": {
      "text/plain": [
       "[('主', 'O'),\n",
       " ('要', 'O'),\n",
       " ('帮', 'O'),\n",
       " ('助', 'O'),\n",
       " ('工', 'B-Chunk'),\n",
       " ('地', 'I-Chunk'),\n",
       " ('师', 'I-Chunk'),\n",
       " ('傅', 'E-Chunk'),\n",
       " ('一', 'O'),\n",
       " ('起', 'O'),\n",
       " ('超', 'O'),\n",
       " ('平', 'O'),\n",
       " (',', 'O'),\n",
       " ('防', 'O'),\n",
       " ('线', 'O'),\n",
       " ('工', 'O'),\n",
       " ('作', 'O')]"
      ]
     },
     "execution_count": 4,
     "metadata": {},
     "output_type": "execute_result"
    }
   ],
   "source": [
    "# see the actual predict results\n",
    "results = seq_labeler.show_results(x_seq, y_pred)\n",
    "results[0]"
   ]
  },
  {
   "cell_type": "markdown",
   "metadata": {},
   "source": [
    "### entity visualization"
   ]
  },
  {
   "cell_type": "code",
   "execution_count": 3,
   "metadata": {},
   "outputs": [],
   "source": [
    "from nlp_toolkit.visualization import entity_visualization\n",
    "labels = [['B-Chunk', 'E-Chunk', 'O', 'O', 'O', 'B-Chunk', 'E-Chunk', 'O'], ['B-Chunk', 'I-Chunk', 'E-Chunk', 'O', 'O', 'O', 'O', 'O', 'O', 'B-Chunk', 'E-Chunk']]\n",
    "sentence = ['Deep learning is part of machine learning .', 'Natural language processing is one of the most exciting AI techniques.']"
   ]
  },
  {
   "cell_type": "code",
   "execution_count": 4,
   "metadata": {},
   "outputs": [],
   "source": [
    "entity_visualization(sentence, labels)"
   ]
  },
  {
   "cell_type": "code",
   "execution_count": 6,
   "metadata": {},
   "outputs": [
    {
     "data": {
      "image/jpeg": "[encoded data removed]",
      "text/plain": [
       "<IPython.core.display.Image object>"
      ]
     },
     "execution_count": 6,
     "metadata": {},
     "output_type": "execute_result"
    }
   ],
   "source": [
    "from IPython.display import Image\n",
    "Image('../images/entity_visualization_sample.jpg')"
   ]
  }
 ],
 "metadata": {
  "kernelspec": {
   "display_name": "Python 3",
   "language": "python",
   "name": "python3"
  },
  "language_info": {
   "codemirror_mode": {
    "name": "ipython",
    "version": 3
   },
   "file_extension": ".py",
   "mimetype": "text/x-python",
   "name": "python",
   "nbconvert_exporter": "python",
   "pygments_lexer": "ipython3",
   "version": "3.6.5"
  }
 },
 "nbformat": 4,
 "nbformat_minor": 2
}
